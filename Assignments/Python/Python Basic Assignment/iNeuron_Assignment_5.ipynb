{
 "cells": [
  {
   "cell_type": "markdown",
   "id": "19b1cddb",
   "metadata": {},
   "source": [
    "#### 1. What does an empty dictionary's code look like?\n",
    "    Ans: Two curly brackets: {}"
   ]
  },
  {
   "cell_type": "code",
   "execution_count": 3,
   "id": "211775b4",
   "metadata": {},
   "outputs": [
    {
     "name": "stdout",
     "output_type": "stream",
     "text": [
      "{}\n",
      "<class 'dict'>\n"
     ]
    }
   ],
   "source": [
    "a={}\n",
    "print(a)\n",
    "print(type(a))"
   ]
  },
  {
   "cell_type": "markdown",
   "id": "28a8606a",
   "metadata": {},
   "source": [
    "#### 2. What is the value of a dictionary value with the key 'foo' and the value 42?\n",
    "    Ans: {'foo': 42}'"
   ]
  },
  {
   "cell_type": "code",
   "execution_count": 4,
   "id": "4cb8ae4a",
   "metadata": {},
   "outputs": [
    {
     "data": {
      "text/plain": [
       "{'foo': 42}"
      ]
     },
     "execution_count": 4,
     "metadata": {},
     "output_type": "execute_result"
    }
   ],
   "source": [
    "d1={'foo': 42}\n",
    "d1"
   ]
  },
  {
   "cell_type": "markdown",
   "id": "32cac4a1",
   "metadata": {},
   "source": [
    "#### 3. What is the most significant distinction between a dictionary and a list?\n",
    "    Ans: The items stored in a dictionary are unordered, while the items in a list are ordered."
   ]
  },
  {
   "cell_type": "code",
   "execution_count": 20,
   "id": "cf5e3983",
   "metadata": {},
   "outputs": [
    {
     "data": {
      "text/plain": [
       "'d'"
      ]
     },
     "execution_count": 20,
     "metadata": {},
     "output_type": "execute_result"
    }
   ],
   "source": [
    "spam[int(int('3' * 2) / 11)]"
   ]
  },
  {
   "cell_type": "markdown",
   "id": "01cd4e3e",
   "metadata": {},
   "source": [
    "#### 4. What happens if you try to access spam['foo'] if spam is {'bar': 100}?\n",
    "    Ans:You get a KeyError error."
   ]
  },
  {
   "cell_type": "code",
   "execution_count": 8,
   "id": "f21ecf66",
   "metadata": {},
   "outputs": [],
   "source": [
    "spam = {'bar': 100}"
   ]
  },
  {
   "cell_type": "code",
   "execution_count": 7,
   "id": "aa032705",
   "metadata": {},
   "outputs": [
    {
     "ename": "KeyError",
     "evalue": "'foo'",
     "output_type": "error",
     "traceback": [
      "\u001b[1;31m---------------------------------------------------------------------------\u001b[0m",
      "\u001b[1;31mKeyError\u001b[0m                                  Traceback (most recent call last)",
      "\u001b[1;32m~\\AppData\\Local\\Temp/ipykernel_16216/3999281786.py\u001b[0m in \u001b[0;36m<module>\u001b[1;34m\u001b[0m\n\u001b[1;32m----> 1\u001b[1;33m \u001b[0mspam\u001b[0m\u001b[1;33m[\u001b[0m\u001b[1;34m'foo'\u001b[0m\u001b[1;33m]\u001b[0m\u001b[1;33m\u001b[0m\u001b[1;33m\u001b[0m\u001b[0m\n\u001b[0m",
      "\u001b[1;31mKeyError\u001b[0m: 'foo'"
     ]
    }
   ],
   "source": [
    "spam['-1']"
   ]
  },
  {
   "cell_type": "markdown",
   "id": "8f771ad4",
   "metadata": {},
   "source": [
    "#### 5. If a dictionary is stored in spam, what is the difference between the expressions 'cat' in spam and 'cat' in spam.keys()?\n",
    "    Ans:There is no difference. The in operator checks whether a value exists as a key in the dictionary."
   ]
  },
  {
   "cell_type": "markdown",
   "id": "fcacb29b",
   "metadata": {},
   "source": [
    "#### 6. If a dictionary is stored in spam, what is the difference between the expressions 'cat' in spam and 'cat' in spam.values()?\n",
    "    Ans: 'cat' in spam checks whether there is a 'cat' key in the dictionary, while 'cat' in spam.values() checks whether there is a value 'cat' for one of the keys in spam."
   ]
  },
  {
   "cell_type": "markdown",
   "id": "063a8cfb",
   "metadata": {},
   "source": [
    "#### 7. What is a shortcut for the following code?\n",
    "    if 'color' not in spam:\n",
    "    spam['color'] = 'black"
   ]
  },
  {
   "cell_type": "code",
   "execution_count": 9,
   "id": "2990852c",
   "metadata": {},
   "outputs": [
    {
     "data": {
      "text/plain": [
       "'black'"
      ]
     },
     "execution_count": 9,
     "metadata": {},
     "output_type": "execute_result"
    }
   ],
   "source": [
    "spam.setdefault('color', 'black')"
   ]
  },
  {
   "cell_type": "markdown",
   "id": "e8dbfe05",
   "metadata": {},
   "source": [
    "#### 8. How do you \"pretty print\" dictionary values using which module and function?\n",
    "    Ans: pprint.pprint()"
   ]
  }
 ],
 "metadata": {
  "kernelspec": {
   "display_name": "Python 3 (ipykernel)",
   "language": "python",
   "name": "python3"
  },
  "language_info": {
   "codemirror_mode": {
    "name": "ipython",
    "version": 3
   },
   "file_extension": ".py",
   "mimetype": "text/x-python",
   "name": "python",
   "nbconvert_exporter": "python",
   "pygments_lexer": "ipython3",
   "version": "3.9.7"
  }
 },
 "nbformat": 4,
 "nbformat_minor": 5
}
