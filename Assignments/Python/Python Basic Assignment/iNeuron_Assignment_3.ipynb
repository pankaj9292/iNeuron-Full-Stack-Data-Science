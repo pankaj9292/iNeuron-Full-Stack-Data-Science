{
 "cells": [
  {
   "cell_type": "markdown",
   "id": "19b1cddb",
   "metadata": {},
   "source": [
    "#### 1. Why are functions advantageous to have in your programs?\n",
    "    Ans: Functions reduce the need for duplicate code. This makes programs shorter, easier to read, and easier to update."
   ]
  },
  {
   "cell_type": "markdown",
   "id": "28a8606a",
   "metadata": {},
   "source": [
    "#### 2. When does the code in a function run: when it's specified or when it's called?\n",
    "    Ans: The code in a function executes when the function is called, not when the function is defined.\n"
   ]
  },
  {
   "cell_type": "markdown",
   "id": "32cac4a1",
   "metadata": {},
   "source": [
    "#### 3. What statement creates a function?\n",
    "    Ans: The def statement defines (that is, creates) a function."
   ]
  },
  {
   "cell_type": "markdown",
   "id": "01cd4e3e",
   "metadata": {},
   "source": [
    "#### 4. What is the difference between a function and a function call?\n",
    "    Ans:A function consists of the def statement and the code in its def clause. A function call is what moves the program execution into the function, and the function call evaluates to the function's return value."
   ]
  },
  {
   "cell_type": "markdown",
   "id": "8f771ad4",
   "metadata": {},
   "source": [
    "#### 5. How many global scopes are there in a Python program? How many local scopes?\n",
    "    Ans:There is one global scope, and a local scope is created whenever a function is called."
   ]
  },
  {
   "cell_type": "markdown",
   "id": "50260932",
   "metadata": {},
   "source": [
    "#### 6. What happens to variables in a local scope when the function call returns?\n",
    "    Ans: When a function returns, the local scope is destroyed, and all the variables in it are forgotten."
   ]
  },
  {
   "cell_type": "markdown",
   "id": "063a8cfb",
   "metadata": {},
   "source": [
    "#### 7. What is the concept of a return value? Is it possible to have a return value in an expression?\n",
    "    Ans: A return value is the value that a function call evaluates to. Like any value, a return value can be used as part of an expression"
   ]
  },
  {
   "cell_type": "markdown",
   "id": "e8dbfe05",
   "metadata": {},
   "source": [
    "#### 8. If a function does not have a return statement, what is the return value of a call to that function?\n",
    "        Ans: If there is no return statement for a function, its return value is None."
   ]
  },
  {
   "cell_type": "markdown",
   "id": "cb99d4bb",
   "metadata": {},
   "source": [
    "#### 9. How do you make a function variable refer to the global variable?\n",
    "    Ans: A global statement will force a variable in a function to refer to the global variable"
   ]
  },
  {
   "cell_type": "markdown",
   "id": "d718ff7e",
   "metadata": {},
   "source": [
    "#### 10. What is the data type of None?\n",
    "       Ans: The data type of None is NoneType."
   ]
  },
  {
   "cell_type": "markdown",
   "id": "2d11356d",
   "metadata": {},
   "source": [
    "#### 11. What does the sentence import areallyourpetsnamederic do?\n",
    "    Ans: That import statement imports a module named areallyourpetsnamederic.\n",
    "\n"
   ]
  },
  {
   "cell_type": "markdown",
   "id": "5e6abae1",
   "metadata": {},
   "source": [
    "#### 12. If you had a bacon() feature in a spam module, what would you call it after importing spam?\n",
    "    Ans: This function can be called with spam.bacon()."
   ]
  },
  {
   "cell_type": "markdown",
   "id": "774eaa83",
   "metadata": {},
   "source": [
    "#### 13. What can you do to save a programme from crashing if it encounters an error?\n",
    "    Ans: Place the line of code that might cause an error in a try clause."
   ]
  },
  {
   "cell_type": "markdown",
   "id": "1a9f1394",
   "metadata": {},
   "source": [
    "#### 14. What is the purpose of the try clause? What is the purpose of the except clause?\n",
    "    Ans: The code that could potentially cause an error goes in the try clause. The code that executes if an error happens goes in the except clause.\n"
   ]
  }
 ],
 "metadata": {
  "kernelspec": {
   "display_name": "Python 3 (ipykernel)",
   "language": "python",
   "name": "python3"
  },
  "language_info": {
   "codemirror_mode": {
    "name": "ipython",
    "version": 3
   },
   "file_extension": ".py",
   "mimetype": "text/x-python",
   "name": "python",
   "nbconvert_exporter": "python",
   "pygments_lexer": "ipython3",
   "version": "3.9.7"
  }
 },
 "nbformat": 4,
 "nbformat_minor": 5
}
