{
 "cells": [
  {
   "cell_type": "markdown",
   "id": "19b1cddb",
   "metadata": {},
   "source": [
    "#### 1.What are the two values of the boolean data types? how do you write them ?\n",
    "    Ans: True and False are two values of the boolen data types. We have to use capital T and F and with the rest of the word in lowercase\n"
   ]
  },
  {
   "cell_type": "code",
   "execution_count": 1,
   "id": "62cf2aa9",
   "metadata": {},
   "outputs": [
    {
     "name": "stdout",
     "output_type": "stream",
     "text": [
      "<class 'bool'>\n",
      "<class 'bool'>\n"
     ]
    }
   ],
   "source": [
    "a=True\n",
    "b=False\n",
    "print(type(a))\n",
    "print(type(b))"
   ]
  },
  {
   "cell_type": "markdown",
   "id": "28a8606a",
   "metadata": {},
   "source": [
    "#### 2. What are the three different types of Boolean operators?\n",
    "Ans: The three differnt types of Boolean operators in python are: 'OR' 'AND' 'NOT'\n"
   ]
  },
  {
   "cell_type": "code",
   "execution_count": 3,
   "id": "331ac8a9",
   "metadata": {},
   "outputs": [
    {
     "name": "stdout",
     "output_type": "stream",
     "text": [
      "False\n",
      "True\n",
      "True\n"
     ]
    }
   ],
   "source": [
    "a=10\n",
    "b=20\n",
    "print(a>50 and b>10) \n",
    "print(a>20 or b>10)\n",
    "print(not(a>10))\n"
   ]
  },
  {
   "cell_type": "markdown",
   "id": "32cac4a1",
   "metadata": {},
   "source": [
    "#### 3. Make a list of each Boolean operator's truth tables (i.e. every possible combination of Boolean values for the operator and what it evaluate) ?\n",
    "Ans: The Truth tables for the boolean tables are as follows:\n",
    "##### Truth Table for and operator\n",
    "* True and True = True\n",
    "* True and False = False\n",
    "* False and True = False\n",
    "* False and False = False\n",
    "##### Truth Table for or operator\n",
    "* True or True = True\n",
    "* True or False = True\n",
    "* False or True = True\n",
    "* False or False = False\n",
    "##### Truth Table for not operator\n",
    "* True != False,  False != True\n"
   ]
  },
  {
   "cell_type": "markdown",
   "id": "01cd4e3e",
   "metadata": {},
   "source": [
    "#### 4. What are the values of the following expressions ?\n",
    "* (5 > 4) and (3 == 5)\n",
    "* not (5 > 4)\n",
    "* (5 > 4) or (3 == 5)\n",
    "* not ((5 > 4) or (3 == 5))\n",
    "* (True and True) and (True == False)\n",
    "* (not False) or (not True)\n"
   ]
  },
  {
   "cell_type": "code",
   "execution_count": 6,
   "id": "6c46878d",
   "metadata": {},
   "outputs": [
    {
     "name": "stdout",
     "output_type": "stream",
     "text": [
      "False\n",
      "False\n",
      "True\n",
      "False\n",
      "False\n",
      "True\n"
     ]
    }
   ],
   "source": [
    "print((5 > 4) and (3 == 5))\n",
    "print(not (5 > 4))\n",
    "print((5 > 4) or (3 == 5))\n",
    "print(not ((5 > 4) or (3 == 5)))\n",
    "print((True and True) and (True == False))\n",
    "print((not False) or (not True))"
   ]
  },
  {
   "cell_type": "markdown",
   "id": "8f771ad4",
   "metadata": {},
   "source": [
    "#### 5. What are the six comparison operators?\n",
    "   * == (equals to)\n",
    "   * != (not equals to)\n",
    "   * <  (less then)\n",
    "   * '> (Greater then)\n",
    "   * <= (less then or Equals to)\n",
    "   * => (Greater then or Equals to)"
   ]
  },
  {
   "cell_type": "markdown",
   "id": "50260932",
   "metadata": {},
   "source": [
    "#### 6. How do you tell the difference between the equal to and assignment operators?Describe a condition and when you would use one ?\n",
    "    Ans: == is the equal to operator that compares two values however '=' is that assignment operator"
   ]
  },
  {
   "cell_type": "code",
   "execution_count": 16,
   "id": "e88a6f75",
   "metadata": {},
   "outputs": [
    {
     "name": "stdout",
     "output_type": "stream",
     "text": [
      "False\n"
     ]
    }
   ],
   "source": [
    "a = 10   \n",
    "b = 20\n",
    "if a==b: print(True)\n",
    "else: print(False)"
   ]
  },
  {
   "cell_type": "markdown",
   "id": "063a8cfb",
   "metadata": {},
   "source": [
    "#### 7. Identify the three blocks in this code:\n",
    "spam = 0\n",
    "if spam == 10:\n",
    "print('eggs')\n",
    "if spam > 5:\n",
    "print('bacon')\n",
    "else:\n",
    "print('ham')\n",
    "print('spam')\n",
    "print('spam')\n"
   ]
  },
  {
   "cell_type": "code",
   "execution_count": 19,
   "id": "a9416a3c",
   "metadata": {},
   "outputs": [
    {
     "name": "stdout",
     "output_type": "stream",
     "text": [
      "ham\n",
      "spam\n",
      "spam\n"
     ]
    }
   ],
   "source": [
    "spam = 0  \n",
    "if spam == 10:  # 1st block\n",
    "    print('eggs') \n",
    "if spam > 5:    # 2nd block\n",
    "    print('bacon')\n",
    "else:          # 3rd block\n",
    "    print('ham')\n",
    "print('spam')  \n",
    "print('spam')"
   ]
  },
  {
   "cell_type": "markdown",
   "id": "e8dbfe05",
   "metadata": {},
   "source": [
    "#### 8. Write code that prints Hello if 1 is stored in spam, prints Howdy if 2 is stored in spam, and prints Greetings! if anything else is stored in spam."
   ]
  },
  {
   "cell_type": "code",
   "execution_count": 35,
   "id": "6f8681dd",
   "metadata": {},
   "outputs": [
    {
     "name": "stdout",
     "output_type": "stream",
     "text": [
      "Enter the number: 4\n",
      "Greetings\n"
     ]
    }
   ],
   "source": [
    "spam = int(input(\"Enter the number: \"))\n",
    "if spam == 1: \n",
    "    print('Hello')\n",
    "elif spam == 2: \n",
    "    print('Howdy')\n",
    "else: \n",
    "    print('Greetings')"
   ]
  },
  {
   "cell_type": "markdown",
   "id": "cb99d4bb",
   "metadata": {},
   "source": [
    "#### 9. .If your programme is stuck in an endless loop, what keys you’ll press?\n",
    "    Ans: Ctrl-c to stop a program stuck in an infinite loop\n"
   ]
  },
  {
   "cell_type": "markdown",
   "id": "d718ff7e",
   "metadata": {},
   "source": [
    "#### 10. How can you tell the difference between break and continue?\n",
    "Ans: The break statement use for immediate termination of loop. Whereas the continue terminate the current iteration and resumes to the next iteration of the loop"
   ]
  },
  {
   "cell_type": "markdown",
   "id": "2d11356d",
   "metadata": {},
   "source": [
    "#### 11. In a for loop, what is the difference between range(10), range(0, 10), and range(0, 10, 1)?\n",
    "\n"
   ]
  },
  {
   "cell_type": "markdown",
   "id": "c1218e82",
   "metadata": {},
   "source": [
    "* range(10) is all number till 10, excluding 10"
   ]
  },
  {
   "cell_type": "code",
   "execution_count": 38,
   "id": "fa6114db",
   "metadata": {},
   "outputs": [
    {
     "name": "stdout",
     "output_type": "stream",
     "text": [
      "0 1 2 3 4 5 6 7 8 9 "
     ]
    }
   ],
   "source": [
    "for i in range(10): print(i, end=\" \")"
   ]
  },
  {
   "cell_type": "markdown",
   "id": "7718336f",
   "metadata": {},
   "source": [
    "* range(0, 10) is all number from starting from 0 to 10, excluding 10"
   ]
  },
  {
   "cell_type": "code",
   "execution_count": 39,
   "id": "e01d5a3f",
   "metadata": {},
   "outputs": [
    {
     "name": "stdout",
     "output_type": "stream",
     "text": [
      "0 1 2 3 4 5 6 7 8 9 "
     ]
    }
   ],
   "source": [
    "for i in range(0, 10): print(i, end=\" \")"
   ]
  },
  {
   "cell_type": "markdown",
   "id": "9e92a250",
   "metadata": {},
   "source": [
    "* range(0, 10, 1) is all number from starting from 0 to 10, excluding 10 with increment of 1"
   ]
  },
  {
   "cell_type": "code",
   "execution_count": 40,
   "id": "7ff60083",
   "metadata": {},
   "outputs": [
    {
     "name": "stdout",
     "output_type": "stream",
     "text": [
      "0 1 2 3 4 5 6 7 8 9 "
     ]
    }
   ],
   "source": [
    "for i in range(0, 10, 1): print(i, end=\" \")"
   ]
  },
  {
   "cell_type": "markdown",
   "id": "5e6abae1",
   "metadata": {},
   "source": [
    "#### 12. Write a short program that prints the numbers 1 to 10 using a for loop. Then write an equivalent program that prints the numbers 1 to 10 using a while loop ?"
   ]
  },
  {
   "cell_type": "code",
   "execution_count": 48,
   "id": "de6f40a4",
   "metadata": {},
   "outputs": [
    {
     "name": "stdout",
     "output_type": "stream",
     "text": [
      "1 2 3 4 5 6 7 8 9 10 "
     ]
    }
   ],
   "source": [
    "for i in range(1,11): print(i, end=\" \")"
   ]
  },
  {
   "cell_type": "code",
   "execution_count": 51,
   "id": "cb137714",
   "metadata": {},
   "outputs": [
    {
     "name": "stdout",
     "output_type": "stream",
     "text": [
      "1 2 3 4 5 6 7 8 9 10 "
     ]
    }
   ],
   "source": [
    "i=1\n",
    "while i<=10:\n",
    "    print(i, end=\" \")\n",
    "    i+=1"
   ]
  },
  {
   "cell_type": "markdown",
   "id": "774eaa83",
   "metadata": {},
   "source": [
    "#### 13. If you had a function named bacon() inside a module named spam, how would you call it after importing spam ?\n",
    "    Ans: can be called with spam.bacon()\n"
   ]
  }
 ],
 "metadata": {
  "kernelspec": {
   "display_name": "Python 3 (ipykernel)",
   "language": "python",
   "name": "python3"
  },
  "language_info": {
   "codemirror_mode": {
    "name": "ipython",
    "version": 3
   },
   "file_extension": ".py",
   "mimetype": "text/x-python",
   "name": "python",
   "nbconvert_exporter": "python",
   "pygments_lexer": "ipython3",
   "version": "3.9.7"
  }
 },
 "nbformat": 4,
 "nbformat_minor": 5
}
