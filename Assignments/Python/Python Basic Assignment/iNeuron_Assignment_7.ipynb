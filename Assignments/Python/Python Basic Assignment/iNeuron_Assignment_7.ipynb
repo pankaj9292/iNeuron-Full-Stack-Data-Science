{
 "cells": [
  {
   "cell_type": "markdown",
   "id": "19b1cddb",
   "metadata": {},
   "source": [
    "#### 1. What is the name of the feature responsible for generating Regex objects?\n",
    "**Ans:** $re.compile()$ \n",
    "is the feature responsible for generation of Regex objects."
   ]
  },
  {
   "cell_type": "code",
   "execution_count": 16,
   "id": "f2d327b2",
   "metadata": {},
   "outputs": [
    {
     "name": "stdout",
     "output_type": "stream",
     "text": [
      "<class 're.Pattern'>\n",
      "re.compile('pankaj')\n"
     ]
    }
   ],
   "source": [
    "import re\n",
    "x = re.compile(\"pankaj\")\n",
    "print(type(x))\n",
    "print(x)"
   ]
  },
  {
   "cell_type": "markdown",
   "id": "28a8606a",
   "metadata": {},
   "source": [
    "#### 2. Why do raw strings often appear in Regex objects?\n",
    "**Ans:** Regular expressions use the backslash character ('\\') to indicate special forms (Metacharacters) or to allow special characters (speical sequences) to be used without invoking their special meaning. This collides with Python’s usage of the same character for the same purpose in string literals. Hence, Raw strings are used (e.g. r\"\\n\") so that backslashes do not have to be escaped."
   ]
  },
  {
   "cell_type": "markdown",
   "id": "32cac4a1",
   "metadata": {},
   "source": [
    "#### 3. What is the return value of the search() method?\n",
    "**Ans:** The return value of re.search(pattern,string) method is a match object if the pattern is observed in the string else it returns a None"
   ]
  },
  {
   "cell_type": "code",
   "execution_count": 18,
   "id": "4b9beba2",
   "metadata": {},
   "outputs": [
    {
     "name": "stdout",
     "output_type": "stream",
     "text": [
      "Result: <re.Match object; span=(1, 2), match='a'>\n",
      "Result: None\n"
     ]
    }
   ],
   "source": [
    "import re\n",
    "match = re.search('a','Pankaj', flags=re.IGNORECASE)\n",
    "print('Result:',match)\n",
    "match = re.search('S','pankaj', flags=re.IGNORECASE)\n",
    "print('Result:',match)"
   ]
  },
  {
   "cell_type": "markdown",
   "id": "01cd4e3e",
   "metadata": {},
   "source": [
    "#### 4.  From a Match item, how do you get the actual strings that match the pattern?\n",
    "**Ans:** For Matched items group() methods returns actual strings that match the pattern"
   ]
  },
  {
   "cell_type": "code",
   "execution_count": 19,
   "id": "aa032705",
   "metadata": {},
   "outputs": [
    {
     "name": "stdout",
     "output_type": "stream",
     "text": [
      "Result: a\n"
     ]
    }
   ],
   "source": [
    "import re\n",
    "match = re.search('a','Pankaj', flags=re.IGNORECASE)\n",
    "print('Result:',match.group())"
   ]
  },
  {
   "cell_type": "markdown",
   "id": "8f771ad4",
   "metadata": {},
   "source": [
    "#### 5.  In the regex which created from the r'(\\d\\d\\d)-(\\d\\d\\d-\\d\\d\\d\\d)', what does group zero cover? Group 2? Group 1?\n",
    "Ans: In the Regex r'(\\d\\d\\d)-(\\d\\d\\d-\\d\\d\\d\\d)' the zero group covers the entire pattern match where as the first group cover (\\d\\d\\d) and the second group cover (\\d\\d\\d-\\d\\d\\d\\d)"
   ]
  },
  {
   "cell_type": "code",
   "execution_count": 67,
   "id": "9b7269cf",
   "metadata": {},
   "outputs": [
    {
     "name": "stdout",
     "output_type": "stream",
     "text": [
      "('123', '122-1234')\n",
      "123-122-1234\n",
      "123\n",
      "122-1234\n"
     ]
    }
   ],
   "source": [
    "import re\n",
    "ssnRegex = re.compile(r'(\\d\\d\\d)-(\\d\\d\\d-\\d\\d\\d\\d)')\n",
    "ssn = ssnRegex.search('this is the string for search 123-122-1234 or 333-33-33333')\n",
    "ssn.groups()\n",
    "print(ssn.groups()) # Prints all groups in a tuple format\n",
    "print(ssn.group()) # Always returns the fully matched string \n",
    "print(ssn.group(1)) # Returns the first group\n",
    "print(ssn.group(2)) # Returns the second group"
   ]
  },
  {
   "cell_type": "markdown",
   "id": "fcacb29b",
   "metadata": {},
   "source": [
    "#### 6. In standard expression syntax, parentheses and intervals have distinct meanings. How can you tell a regex that you want it to fit real parentheses and periods?\n",
    "**Ans:** The \\. \\( and \\) escape characters in the raw string passed to re.compile() will match actual parenthesis characters."
   ]
  },
  {
   "cell_type": "code",
   "execution_count": 92,
   "id": "89092946",
   "metadata": {
    "scrolled": false
   },
   "outputs": [
    {
     "name": "stdout",
     "output_type": "stream",
     "text": [
      "(333)-33-3333\n"
     ]
    }
   ],
   "source": [
    "import re\n",
    "ssnRegex = re.compile(r'(\\(\\d\\d\\d\\))-(\\d\\d-\\d\\d\\d\\d)')\n",
    "ssn = ssnRegex.search('this is the string for search 123-122-1234 or (333)-33-33333')\n",
    "print(ssn.group())"
   ]
  },
  {
   "cell_type": "markdown",
   "id": "063a8cfb",
   "metadata": {},
   "source": [
    "#### 7. The findall() method returns a string list or a list of string tuples. What causes it to return one of the two options?\n",
    "**Ans:** If the regex pattern has no groups, a list of strings matched is returned. if the regex pattern has groups, a list of tuple of strings is returned."
   ]
  },
  {
   "cell_type": "code",
   "execution_count": 101,
   "id": "fbe93bfe",
   "metadata": {},
   "outputs": [
    {
     "name": "stdout",
     "output_type": "stream",
     "text": [
      "[('(333)', '33-3333')]\n",
      "['123-12-1234']\n"
     ]
    }
   ],
   "source": [
    "# Example Program\n",
    "import re\n",
    "phoneNumRegex = re.compile(r'(\\(\\d\\d\\d\\))-(\\d\\d-\\d\\d\\d\\d)')\n",
    "mo = phoneNumRegex.findall('this is the string for search 123-12-1234 or (333)-33-33333')\n",
    "print(mo)\n",
    "\n",
    "import re\n",
    "phoneNumRegex = re.compile(r'\\d{3}-\\d{2}-\\d{4}')\n",
    "mo = phoneNumRegex.findall('this is the string for search 123-12-1234 or (333)-33-33333')\n",
    "print(mo)"
   ]
  },
  {
   "cell_type": "markdown",
   "id": "e8dbfe05",
   "metadata": {},
   "source": [
    "#### 8. In standard expressions, what does the | character mean?\n",
    "**Ans:** In Standard Expressions **$|$** means $OR$ operator."
   ]
  },
  {
   "cell_type": "code",
   "execution_count": 7,
   "id": "c43eb4b3",
   "metadata": {},
   "outputs": [
    {
     "data": {
      "text/plain": [
       "['Remember,', 'remember,', 'the', 'fifth', 'of', 'July.']"
      ]
     },
     "execution_count": 7,
     "metadata": {},
     "output_type": "execute_result"
    }
   ],
   "source": [
    "'Remember, remember, the fifth of July.'.split()"
   ]
  },
  {
   "cell_type": "markdown",
   "id": "cb99d4bb",
   "metadata": {},
   "source": [
    "#### 9. n regular expressions, what does the ? character stand for?\n",
    "**Ans:** In regular Expressions, ? characters represents zero or one match of the preceeding group"
   ]
  },
  {
   "cell_type": "code",
   "execution_count": 119,
   "id": "34ecb22b",
   "metadata": {},
   "outputs": [
    {
     "name": "stdout",
     "output_type": "stream",
     "text": [
      "<re.Match object; span=(0, 6), match='Batman'>\n",
      "<re.Match object; span=(0, 6), match='Batman'>\n"
     ]
    }
   ],
   "source": [
    "import re\n",
    "match_1 = re.search(\"Bat(wo)?man\",\"Batman returns\")\n",
    "print(match_1)\n",
    "match_2 = re.search(\"Bat(wo)?man\",\"Batman returns\")\n",
    "print(match_2)"
   ]
  },
  {
   "cell_type": "markdown",
   "id": "d718ff7e",
   "metadata": {},
   "source": [
    "#### 10.In regular expressions, what is the difference between the + and * characters?\n",
    "**Ans:** In Regular Expressions, $*$ Represents Zero ore more occurances of the preceeding group, whereas $+$ represents one or more occurances of the preceeding group."
   ]
  },
  {
   "cell_type": "code",
   "execution_count": 123,
   "id": "c2bb9696",
   "metadata": {
    "scrolled": true
   },
   "outputs": [
    {
     "name": "stdout",
     "output_type": "stream",
     "text": [
      "<re.Match object; span=(0, 6), match='Batman'>\n",
      "None\n"
     ]
    }
   ],
   "source": [
    "import re\n",
    "match_1 = re.search(\"Bat(wo)*man\",\"Batman returns\")\n",
    "print(match_1)\n",
    "match_2 = re.search(\"Bat(wo)+man\",\"Batman returns\")\n",
    "print(match_2)"
   ]
  },
  {
   "cell_type": "markdown",
   "id": "64be8d81",
   "metadata": {},
   "source": [
    "#### 11. What is the difference between {4} and {4,5} in regular expression?\n",
    "**Ans:** {4} means that its preceeding group should repeat 4 times. where as {4,5} means that its preceeding group should repeat mininum 4 times and maximum 5 times inclusively"
   ]
  },
  {
   "cell_type": "code",
   "execution_count": 128,
   "id": "5d0875f1",
   "metadata": {},
   "outputs": [
    {
     "name": "stdout",
     "output_type": "stream",
     "text": [
      "WohoWohoWoho\n",
      "None\n"
     ]
    }
   ],
   "source": [
    "import re\n",
    "haRegex = re.compile(r'(Woho){3}')\n",
    "mo1 = haRegex.search('WohoWohoWoho')\n",
    "mo2 = haRegex.search('Wo')\n",
    "print(mo1.group())\n",
    "print(mo2)"
   ]
  },
  {
   "cell_type": "code",
   "execution_count": null,
   "id": "a80fffc6",
   "metadata": {},
   "outputs": [],
   "source": []
  },
  {
   "cell_type": "markdown",
   "id": "0f902050",
   "metadata": {},
   "source": [
    "#### 12. What do you mean by the \\d, \\w, and \\s shorthand character classes signify in regular expressions?\n",
    "**Ans:**  \\d, \\w and \\s are special sequences in regular expresssions in python:\n",
    "\n",
    "- \\w – Matches a word character equivalent to [a-zA-Z0-9_]\n",
    "- \\d – Matches digit character equivalent to [0-9]\n",
    "- \\s – Matches whitespace character (space, tab, newline, etc.)"
   ]
  },
  {
   "cell_type": "markdown",
   "id": "bef3aa87",
   "metadata": {},
   "source": [
    "#### 13. What do means by \\D, \\W, and \\S shorthand character classes signify in regular expressions?\n",
    "**Ans:** \\D, \\W and \\S are special sequences in regular expresssions in python:\n",
    "\n",
    "* \\W – Matches any non-alphanumeric character equivalent to [^a-zA-Z0-9_]\n",
    "* \\D – Matches any non-digit character, this is equivalent to the set class [^0-9]\n",
    "* \\S – Matches any non-whitespace character"
   ]
  },
  {
   "cell_type": "markdown",
   "id": "9c8e0f9d",
   "metadata": {},
   "source": [
    "#### 14. What is the difference between .*? and .*?\n",
    "**Ans:** $.*$ returns the longest string that meets the condition. Whereas $.*?$ returns the shortest string that meets the condition."
   ]
  },
  {
   "cell_type": "markdown",
   "id": "8ad12daf",
   "metadata": {},
   "source": [
    "#### 15. What is the syntax for matching both numbers and lowercase letters with a character class?\n",
    "**Ans:** The Synatax is Either $[a-z0-9]$ or $[0-9a-z]$"
   ]
  },
  {
   "cell_type": "markdown",
   "id": "72e01edb",
   "metadata": {},
   "source": [
    "#### 16. What is the procedure for making a normal expression in regax case insensitive?\n",
    "**Ans:** We can pass $flag = re.IGNORECASE$ to make a noraml expression case insensitive"
   ]
  },
  {
   "cell_type": "markdown",
   "id": "f49fa6da",
   "metadata": {},
   "source": [
    "#### 17. What does the . character normally match? What does it match if re.DOTALL is passed as 2nd argument in re.compile()?\n",
    "**Ans:** Dot $.$ character matches everything in input except newline character. By passing re.DOTALL as a flag to re.compile(), you can make the dot character match all characters, including the newline character."
   ]
  },
  {
   "cell_type": "markdown",
   "id": "b8dd13e1",
   "metadata": {},
   "source": [
    "#### 18. If numReg = re.compile(r'\\d+'), what will numRegex.sub('X', '11 drummers, 10 pipers, five rings, 4 hen') return?\n",
    "**Ans:** $X drummers, X pipers, five rings, X hen$\n"
   ]
  },
  {
   "cell_type": "code",
   "execution_count": 130,
   "id": "8bd7c5c6",
   "metadata": {},
   "outputs": [
    {
     "data": {
      "text/plain": [
       "'X drummers, X pipers, five rings, X hen'"
      ]
     },
     "execution_count": 130,
     "metadata": {},
     "output_type": "execute_result"
    }
   ],
   "source": [
    "import re\n",
    "numReg = re.compile(r'\\d+')\n",
    "numReg.sub('X', '11 drummers, 10 pipers, five rings, 4 hen')"
   ]
  },
  {
   "cell_type": "markdown",
   "id": "5e35f691",
   "metadata": {},
   "source": [
    "#### 19. What does passing re.VERBOSE as the 2nd argument to re.compile() allow to do?\n",
    "**Ans:** $re.VERBOSE$ will allow to add whitespace and comments to string passed to re.compile()."
   ]
  },
  {
   "cell_type": "code",
   "execution_count": 131,
   "id": "60c14ec6",
   "metadata": {},
   "outputs": [],
   "source": [
    "regex_email = re.compile(r\"\"\"\n",
    "                            ^([a-z0-9_\\.-]+)              # local Part like username\n",
    "                            @                             # single @ sign \n",
    "                            ([0-9a-z\\.-]+)                # Domain name like google\n",
    "                            \\.                            # single Dot .\n",
    "                            ([a-z]{2,6})$                 # Top level Domain  like com/in/org\n",
    "                         \"\"\",re.VERBOSE | re.IGNORECASE) "
   ]
  },
  {
   "cell_type": "markdown",
   "id": "fc97d13e",
   "metadata": {},
   "source": [
    "#### 20. How would you write a regex that match a number with comma for every three digits? It must match the given following: \n",
    "    42','1,234', '6,368,745'but not the following: '12,34,567' (which has only two digits between the commas) '1234' (which lacks commas)"
   ]
  },
  {
   "cell_type": "code",
   "execution_count": 147,
   "id": "041d83af",
   "metadata": {},
   "outputs": [
    {
     "name": "stdout",
     "output_type": "stream",
     "text": [
      "Output: 42 : <re.Match object; span=(0, 2), match='42'>\n",
      "Output: 1,234 : <re.Match object; span=(0, 5), match='1,234'>\n",
      "Output: 6,368,745 : <re.Match object; span=(0, 9), match='6,368,745'>\n",
      "Output: 12,34,567 : None\n",
      "Output: 1234 : None\n"
     ]
    }
   ],
   "source": [
    "import re\n",
    "a =['42','1,234', '6,368,745','12,34,567','1234']\n",
    "pattern = r'^\\d{1,3}(,\\d{3})*$'\n",
    "pagex = re.compile(pattern)\n",
    "for i in a:\n",
    "    print('Output:',i,':', pagex.search(i))"
   ]
  },
  {
   "cell_type": "markdown",
   "id": "7c7debf8",
   "metadata": {},
   "source": [
    "#### 21. How would you write a regex that matches the full name of someone whose last name is Watanabe? You can assume that the first name that comes before it will always be one word that begins with a capital letter. The regex must match the following:\n",
    "* 'Haruto Watanabe'\n",
    "* 'Alice Watanabe'\n",
    "* 'RoboCop Watanabe'\n",
    "      but not the following:\n",
    "* 'haruto Watanabe' (where the first name is not capitalized)\n",
    "* 'Mr. Watanabe' (where the preceding word has a nonletter character)\n",
    "* 'Watanabe' (which has no first name)\n",
    "* 'Haruto watanabe' (where Watanabe is not capitalized)"
   ]
  },
  {
   "cell_type": "code",
   "execution_count": 161,
   "id": "941d7012",
   "metadata": {},
   "outputs": [
    {
     "name": "stdout",
     "output_type": "stream",
     "text": [
      "Output:  Haruto Watanabe : <re.Match object; span=(0, 15), match='Haruto Watanabe'>\n",
      "Output:  Alice Watanabe : <re.Match object; span=(0, 14), match='Alice Watanabe'>\n",
      "Output:  RoboCop Watanabe : <re.Match object; span=(4, 16), match='Cop Watanabe'>\n",
      "Output:  haruto Watanabe : None\n",
      "Output:  Mr. Watanabe : None\n",
      "Output:  Watanabe : None\n",
      "Output:  Haruto watanabe : None\n"
     ]
    }
   ],
   "source": [
    "import re\n",
    "names = ['Haruto Watanabe','Alice Watanabe','RoboCop Watanabe','haruto Watanabe','Mr. Watanabe','Watanabe','Haruto watanabe']\n",
    "pattern = r'[A-Z]{1}[a-z]*\\sWatanabe'\n",
    "namex = re.compile(pattern)\n",
    "for i  in names:\n",
    "    print('Output: ',i,':',namex.search(i))"
   ]
  },
  {
   "cell_type": "markdown",
   "id": "116393e6",
   "metadata": {},
   "source": [
    "#### 22. How would you write a regex that matches a sentence where the first word is either Alice, Bob, or Carol; the second word is either eats, pets, or throws; the third word is apples, cats, or baseballs; and the sentence ends with a period? This regex should be case-insensitive. It must match the following:\n",
    "* 'Alice eats apples.'\n",
    "* 'Bob pets cats.'\n",
    "* 'Carol throws baseballs.'\n",
    "* 'Alice throws Apples.'\n",
    "* 'BOB EATS CATS.'\n",
    "         but not the following:\n",
    "* 'RoboCop eats apples.'\n",
    "* 'ALICE THROWS FOOTBALLS.'\n",
    "* 'Carol eats 7 cats.'\n"
   ]
  },
  {
   "cell_type": "code",
   "execution_count": 168,
   "id": "3e564007",
   "metadata": {},
   "outputs": [
    {
     "name": "stdout",
     "output_type": "stream",
     "text": [
      "Output:  Alice eats apples. :  <re.Match object; span=(0, 18), match='Alice eats apples.'>\n",
      "Output:  Bob pets cats. :  <re.Match object; span=(0, 14), match='Bob pets cats.'>\n",
      "Output:  Carol throws baseballs. :  <re.Match object; span=(0, 23), match='Carol throws baseballs.'>\n",
      "Output:  Alice throws Apples. :  <re.Match object; span=(0, 20), match='Alice throws Apples.'>\n",
      "Output:  BOB EATS CATS. :  <re.Match object; span=(0, 14), match='BOB EATS CATS.'>\n",
      "Output:  RoboCop eats apples. :  None\n",
      "Output:  ALICE THROWS FOOTBALLS. :  None\n",
      "Output:  Carol eats 7 cats. :  None\n"
     ]
    }
   ],
   "source": [
    "import re\n",
    "names = ['Alice eats apples.','Bob pets cats.','Carol throws baseballs.','Alice throws Apples.','BOB EATS CATS.','RoboCop eats apples.'\n",
    ",'ALICE THROWS FOOTBALLS.','Carol eats 7 cats.']\n",
    "pattern = r'(Alice|Bob|Carol)\\s(eats|pets|throws)\\s(apples|cats|baseballs)\\.'\n",
    "casex = re.compile(pattern,re.IGNORECASE)\n",
    "for i in names:\n",
    "    print('Output: ',i,': ',casex.search(i))"
   ]
  }
 ],
 "metadata": {
  "kernelspec": {
   "display_name": "Python 3 (ipykernel)",
   "language": "python",
   "name": "python3"
  },
  "language_info": {
   "codemirror_mode": {
    "name": "ipython",
    "version": 3
   },
   "file_extension": ".py",
   "mimetype": "text/x-python",
   "name": "python",
   "nbconvert_exporter": "python",
   "pygments_lexer": "ipython3",
   "version": "3.9.7"
  }
 },
 "nbformat": 4,
 "nbformat_minor": 5
}
