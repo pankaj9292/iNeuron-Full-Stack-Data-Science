{
 "cells": [
  {
   "cell_type": "markdown",
   "id": "19b1cddb",
   "metadata": {},
   "source": [
    "#### 1. In the below elements which of them are values or an expression? eg:- values can be integer or string and expressions will be mathematical operators.\n",
    "\n",
    "* 'hello' --- Value\n",
    "* 87.8   --- Value\n",
    "*  '-'       --- Expressions\n",
    "* /       --- Expressions\n",
    "* '+'\t    --- Expressions\n",
    "* 6       --- Value\n"
   ]
  },
  {
   "cell_type": "markdown",
   "id": "28a8606a",
   "metadata": {},
   "source": [
    "#### 2. What is the difference between string is and variable?\n",
    "\n",
    "    Ans: string is the datatype represent text type data whereas variable as temporary storage locations, a variable is used to represent any value\n"
   ]
  },
  {
   "cell_type": "markdown",
   "id": "32cac4a1",
   "metadata": {},
   "source": [
    "#### 3. Describe three different data types\n",
    "     Ans: 1.Strings\n",
    "          2.Integers\n",
    "          3.Float\n",
    "          4.Complex\n",
    "          5.Booleans\n",
    "          6.List\n",
    "          7.Tuple\n",
    "          8.Dictionary\n",
    "          9.Set\n",
    "    "
   ]
  },
  {
   "cell_type": "markdown",
   "id": "01cd4e3e",
   "metadata": {},
   "source": [
    "#### 4. What is an expression made up of? What do all expressions do?\n",
    "    Ans: An expression is any sequence of literals (strings, numbers, lists, sets, tuples), objects, function calls,             identifiers combined with a variety of operators which results in a value - regardless of whether of the resulting value is an object, or a number, or even a None.\n",
    "    In Short expressions are things that are intended to result in a value.\n",
    "\n"
   ]
  },
  {
   "cell_type": "markdown",
   "id": "8f771ad4",
   "metadata": {},
   "source": [
    "#### 5. This assignment statements, like spam = 10. What is the difference between an expression and a statement?\n",
    "       Ans: An Expression is a sequence or combination of values, variables, operators and function calls that always           produces or returns a result value.\n",
    "    Any Instructions that a python interpreter can execute is called a Statement"
   ]
  },
  {
   "cell_type": "markdown",
   "id": "50260932",
   "metadata": {},
   "source": [
    "#### 6.After running the following code, what does the variable bacon contains?\n",
    "- bacon = 22\n",
    "- bacon + 1\n",
    "        \n",
    "        Ans: 22, as it do not change the original Value\n"
   ]
  },
  {
   "cell_type": "code",
   "execution_count": 14,
   "id": "e88a6f75",
   "metadata": {},
   "outputs": [
    {
     "data": {
      "text/plain": [
       "23"
      ]
     },
     "execution_count": 14,
     "metadata": {},
     "output_type": "execute_result"
    }
   ],
   "source": [
    "bacon = 22\n",
    "bacon + 1"
   ]
  },
  {
   "cell_type": "code",
   "execution_count": 15,
   "id": "edfbbb2f",
   "metadata": {},
   "outputs": [
    {
     "data": {
      "text/plain": [
       "22"
      ]
     },
     "execution_count": 15,
     "metadata": {},
     "output_type": "execute_result"
    }
   ],
   "source": [
    "bacon"
   ]
  },
  {
   "cell_type": "markdown",
   "id": "063a8cfb",
   "metadata": {},
   "source": [
    "#### 7.What should the values of the following two terms be?\n",
    "- 'spam' + 'spamspam'\n",
    "- 'spam' * 3\n",
    "\n",
    "        Ans: both will be same strings"
   ]
  },
  {
   "cell_type": "code",
   "execution_count": 16,
   "id": "a9416a3c",
   "metadata": {},
   "outputs": [
    {
     "data": {
      "text/plain": [
       "'spamspamspam'"
      ]
     },
     "execution_count": 16,
     "metadata": {},
     "output_type": "execute_result"
    }
   ],
   "source": [
    "'spam' + 'spamspam'"
   ]
  },
  {
   "cell_type": "code",
   "execution_count": 17,
   "id": "52eee5b0",
   "metadata": {},
   "outputs": [
    {
     "data": {
      "text/plain": [
       "'spamspamspam'"
      ]
     },
     "execution_count": 17,
     "metadata": {},
     "output_type": "execute_result"
    }
   ],
   "source": [
    "'spam' * 3"
   ]
  },
  {
   "cell_type": "markdown",
   "id": "e8dbfe05",
   "metadata": {},
   "source": [
    "#### 8. Why is eggs a valid variable name while 100 is invalid?\n",
    "    Ans: As eggs in string text data, show values can be assigned to it, however 100 itself is integer thus it can be a valid variable name"
   ]
  },
  {
   "cell_type": "markdown",
   "id": "cb99d4bb",
   "metadata": {},
   "source": [
    "#### 9. What three functions can be used to get the integer, floating-point number, or string version of a value?\n",
    "    Ans: The int(), float(), and str() functions will evaluate to the integer, floating-point number, and string"
   ]
  },
  {
   "cell_type": "markdown",
   "id": "d718ff7e",
   "metadata": {},
   "source": [
    "#### 10. Why does this expression cause an error? How can you fix it?\n",
    "'I have eaten ' + 99 + ' burritos.\n",
    "    Ans: we can convert the number 99 to text/string datatype  "
   ]
  },
  {
   "cell_type": "code",
   "execution_count": 25,
   "id": "c818121f",
   "metadata": {},
   "outputs": [
    {
     "data": {
      "text/plain": [
       "('I have eaten ', '99', ' burritos.')"
      ]
     },
     "execution_count": 25,
     "metadata": {},
     "output_type": "execute_result"
    }
   ],
   "source": [
    "'I have eaten ' , str(99) , ' burritos.'"
   ]
  }
 ],
 "metadata": {
  "kernelspec": {
   "display_name": "Python 3 (ipykernel)",
   "language": "python",
   "name": "python3"
  },
  "language_info": {
   "codemirror_mode": {
    "name": "ipython",
    "version": 3
   },
   "file_extension": ".py",
   "mimetype": "text/x-python",
   "name": "python",
   "nbconvert_exporter": "python",
   "pygments_lexer": "ipython3",
   "version": "3.9.7"
  }
 },
 "nbformat": 4,
 "nbformat_minor": 5
}
