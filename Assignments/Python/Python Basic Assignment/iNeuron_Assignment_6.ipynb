{
 "cells": [
  {
   "cell_type": "markdown",
   "id": "19b1cddb",
   "metadata": {},
   "source": [
    "#### 1. What are escape characters, and how do you use them?\n",
    "    Ans: Escape characters represent characters in string values that would otherwise be difficult or impossible to type into code. we can use the backslash character to escape a single character or symbol\n",
    "* #### example: \\t, \\n\n"
   ]
  },
  {
   "cell_type": "markdown",
   "id": "28a8606a",
   "metadata": {},
   "source": [
    "#### 2. What do the escape characters n and t stand for?\n",
    "    Ans: \n",
    "   * \\n is a newline, \n",
    "   * \\t is a tab\n"
   ]
  },
  {
   "cell_type": "markdown",
   "id": "32cac4a1",
   "metadata": {},
   "source": [
    "#### 3. What is the way to include backslash characters in a string?\n",
    "    Ans: The \\\\ escape character will represent the backslash character in a string"
   ]
  },
  {
   "cell_type": "markdown",
   "id": "01cd4e3e",
   "metadata": {},
   "source": [
    "#### 4. The string \"Howl's Moving Castle\" is a correct value. Why isn't the single quote character in the word Howl's not escaped a problem?The string \"Howl's Moving Castle\" is a correct value. Why isn't the single quote character in the word Howl's not escaped a problem?\n",
    "    Ans:  The string \"Howl's Moving Castle\" escaped the problem because it is wrapped inside double quotes. if its wrapped inside single quotes then we have to use escape character \\' to show single quote in the final output"
   ]
  },
  {
   "cell_type": "code",
   "execution_count": 21,
   "id": "aa032705",
   "metadata": {},
   "outputs": [
    {
     "data": {
      "text/plain": [
       "'d'"
      ]
     },
     "execution_count": 21,
     "metadata": {},
     "output_type": "execute_result"
    }
   ],
   "source": [
    "spam[-1]"
   ]
  },
  {
   "cell_type": "markdown",
   "id": "8f771ad4",
   "metadata": {},
   "source": [
    "#### 5. How do you write a string of newlines if you don't want to use the n character?\n",
    "    Ans: Multiline string allow you to use newlines in string without the \\n escape character"
   ]
  },
  {
   "cell_type": "markdown",
   "id": "fcacb29b",
   "metadata": {},
   "source": [
    "#### 6. What are the values of the given expressions?\n",
    "* 'Hello, world!'[1]\n",
    "* 'Hello, world!'[0:5]\n",
    "* 'Hello, world!'[:5]\n",
    "* 'Hello, world!'[3:]\n"
   ]
  },
  {
   "cell_type": "code",
   "execution_count": 2,
   "id": "89092946",
   "metadata": {},
   "outputs": [
    {
     "name": "stdout",
     "output_type": "stream",
     "text": [
      "e\n",
      "Hello\n",
      "Hello\n",
      "lo, world!\n"
     ]
    }
   ],
   "source": [
    "print('Hello, world!'[1])\n",
    "print('Hello, world!'[0:5])\n",
    "print('Hello, world!'[:5])\n",
    "print('Hello, world!'[3:])\n"
   ]
  },
  {
   "cell_type": "markdown",
   "id": "063a8cfb",
   "metadata": {},
   "source": [
    "#### 7. What are the values of the following expressions?\n",
    "* 'Hello'.upper()\n",
    "* 'Hello'.upper().isupper()\n",
    "* 'Hello'.upper().lower()"
   ]
  },
  {
   "cell_type": "code",
   "execution_count": 6,
   "id": "fbe93bfe",
   "metadata": {},
   "outputs": [
    {
     "name": "stdout",
     "output_type": "stream",
     "text": [
      "HELLO\n",
      "True\n",
      "hello\n"
     ]
    }
   ],
   "source": [
    "print('hello'.upper())\n",
    "print('hello'.upper().isupper())\n",
    "print('hello'.upper().lower())"
   ]
  },
  {
   "cell_type": "markdown",
   "id": "e8dbfe05",
   "metadata": {},
   "source": [
    "#### 8. What are the values of the following expressions?\n",
    "* 'Remember, remember, the fifth of July.'.split()"
   ]
  },
  {
   "cell_type": "code",
   "execution_count": 7,
   "id": "c43eb4b3",
   "metadata": {},
   "outputs": [
    {
     "data": {
      "text/plain": [
       "['Remember,', 'remember,', 'the', 'fifth', 'of', 'July.']"
      ]
     },
     "execution_count": 7,
     "metadata": {},
     "output_type": "execute_result"
    }
   ],
   "source": [
    "'Remember, remember, the fifth of July.'.split()"
   ]
  },
  {
   "cell_type": "markdown",
   "id": "cb99d4bb",
   "metadata": {},
   "source": [
    "#### 9. What are the methods for right-justifying, left-justifying, and centering a string?\n",
    "    Ans: The rjust(),ljust(),center() string methods, respectively"
   ]
  },
  {
   "cell_type": "code",
   "execution_count": 13,
   "id": "34ecb22b",
   "metadata": {},
   "outputs": [
    {
     "name": "stdout",
     "output_type": "stream",
     "text": [
      "         pankaj\n",
      "pankaj         \n",
      "     pankaj    \n"
     ]
    }
   ],
   "source": [
    "a = 'pankaj'\n",
    "print(a.rjust(15))\n",
    "print(a.ljust(15))\n",
    "print(a.center(15))"
   ]
  },
  {
   "cell_type": "markdown",
   "id": "d718ff7e",
   "metadata": {},
   "source": [
    "#### 10. What is the best way to remove whitespace characters from the start or end?\n",
    "       Ans: .strip()"
   ]
  },
  {
   "cell_type": "code",
   "execution_count": 22,
   "id": "c2bb9696",
   "metadata": {},
   "outputs": [
    {
     "data": {
      "text/plain": [
       "'pankaj'"
      ]
     },
     "execution_count": 22,
     "metadata": {},
     "output_type": "execute_result"
    }
   ],
   "source": [
    "aa = \"         pankaj      \"\n",
    "aa = aa.strip()\n",
    "aa"
   ]
  }
 ],
 "metadata": {
  "kernelspec": {
   "display_name": "Python 3 (ipykernel)",
   "language": "python",
   "name": "python3"
  },
  "language_info": {
   "codemirror_mode": {
    "name": "ipython",
    "version": 3
   },
   "file_extension": ".py",
   "mimetype": "text/x-python",
   "name": "python",
   "nbconvert_exporter": "python",
   "pygments_lexer": "ipython3",
   "version": "3.9.7"
  }
 },
 "nbformat": 4,
 "nbformat_minor": 5
}
